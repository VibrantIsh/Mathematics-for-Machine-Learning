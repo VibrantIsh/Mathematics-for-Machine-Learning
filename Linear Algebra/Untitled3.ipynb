{
  "nbformat": 4,
  "nbformat_minor": 0,
  "metadata": {
    "colab": {
      "provenance": []
    },
    "kernelspec": {
      "name": "python3",
      "display_name": "Python 3"
    },
    "language_info": {
      "name": "python"
    }
  },
  "cells": [
    {
      "cell_type": "code",
      "source": [
        "import numpy as np\n",
        "import matplotlib.pyplot as plt\n",
        "import numpy.linalg as LA"
      ],
      "metadata": {
        "id": "SSIEmW41uWtq"
      },
      "execution_count": null,
      "outputs": []
    },
    {
      "cell_type": "code",
      "source": [
        "#Creating array in Python\n",
        "z = np.array([1,2,3,4,5])\n",
        "z"
      ],
      "metadata": {
        "colab": {
          "base_uri": "https://localhost:8080/"
        },
        "id": "A0XVDndcukCV",
        "outputId": "6c773bca-1639-4f5d-8ce5-def7ef4fc430"
      },
      "execution_count": null,
      "outputs": [
        {
          "output_type": "execute_result",
          "data": {
            "text/plain": [
              "array([1, 2, 3, 4, 5])"
            ]
          },
          "metadata": {},
          "execution_count": 6
        }
      ]
    },
    {
      "cell_type": "code",
      "source": [
        "# Size\n",
        "z.size"
      ],
      "metadata": {
        "colab": {
          "base_uri": "https://localhost:8080/"
        },
        "id": "M0g3uyK4u1FL",
        "outputId": "313ac8c5-9a87-4552-9723-956e8d51d56b"
      },
      "execution_count": null,
      "outputs": [
        {
          "output_type": "execute_result",
          "data": {
            "text/plain": [
              "5"
            ]
          },
          "metadata": {},
          "execution_count": 7
        }
      ]
    },
    {
      "cell_type": "code",
      "source": [
        "# Accessing 4rd element\n",
        "z[3]"
      ],
      "metadata": {
        "colab": {
          "base_uri": "https://localhost:8080/"
        },
        "id": "L632UDz4u8xN",
        "outputId": "b408fbd0-9175-4fba-d4b6-1defa38b1131"
      },
      "execution_count": null,
      "outputs": [
        {
          "output_type": "execute_result",
          "data": {
            "text/plain": [
              "4"
            ]
          },
          "metadata": {},
          "execution_count": 8
        }
      ]
    },
    {
      "cell_type": "code",
      "source": [
        "# Plotting vectors\n",
        "x = np.array([2, 4])\n",
        "y  = np.array ([3,5])\n",
        "xchords, ychords = zip(x, y)\n",
        "plt.scatter(xchords, ychords, color=[\"pink\", \"yellow\"])\n",
        "plt.axis([0, 9, 0, 8])\n",
        "plt.show"
      ],
      "metadata": {
        "id": "riZ08M_-vHJN"
      },
      "execution_count": null,
      "outputs": []
    },
    {
      "cell_type": "code",
      "source": [
        "# 3D Vectors\n",
        "a = np.array([1,4,6])\n",
        "v = np.array([4, 6, 2])\n"
      ],
      "metadata": {
        "id": "odtSNTC9wvOC"
      },
      "execution_count": null,
      "outputs": []
    },
    {
      "cell_type": "code",
      "source": [
        "# Plotting 3D Vectors.\n",
        "plotfor3d = plt.subplot(111, projection=\"3d\")\n",
        "xc, yc, zc = zip(a,v)\n",
        "plotfor3d.scatter(xc, yc, zc)\n",
        "plotfor3d.set_zlim3d([0, 9])\n",
        "plt.grid()\n",
        "plt.show()"
      ],
      "metadata": {
        "id": "c3l07ojD4bVe"
      },
      "execution_count": null,
      "outputs": []
    },
    {
      "cell_type": "code",
      "source": [
        "# Norm or Magnitude\n",
        "distance = [-5, 7]\n",
        "def norm_calculate(v):\n",
        "  squares = [element **2 for element in v ]\n",
        "  return sum(squares)**0.5\n",
        "\n",
        "norm_calculate(distance)"
      ],
      "metadata": {
        "colab": {
          "base_uri": "https://localhost:8080/"
        },
        "id": "LH8d7xsI5dCl",
        "outputId": "3e44da9f-4fc4-40ff-d7f4-66c6ec49b3ad"
      },
      "execution_count": null,
      "outputs": [
        {
          "output_type": "execute_result",
          "data": {
            "text/plain": [
              "8.602325267042627"
            ]
          },
          "metadata": {},
          "execution_count": 19
        }
      ]
    },
    {
      "cell_type": "code",
      "source": [
        "# Norm using numpy\n",
        "import numpy.linalg as LA\n",
        "LA.norm(distance)"
      ],
      "metadata": {
        "colab": {
          "base_uri": "https://localhost:8080/"
        },
        "id": "1ENGyM4X6Zt_",
        "outputId": "6e97fa64-a8a9-4e77-c9e3-f1685542b18a"
      },
      "execution_count": null,
      "outputs": [
        {
          "output_type": "execute_result",
          "data": {
            "text/plain": [
              "8.602325267042627"
            ]
          },
          "metadata": {},
          "execution_count": 20
        }
      ]
    },
    {
      "cell_type": "code",
      "source": [
        "# Addition\n",
        "t = a + v\n",
        "t\n"
      ],
      "metadata": {
        "colab": {
          "base_uri": "https://localhost:8080/"
        },
        "id": "RU_EldumM7HL",
        "outputId": "a79dc371-3577-45a7-e7c9-5cb6c21c2808"
      },
      "execution_count": null,
      "outputs": [
        {
          "output_type": "execute_result",
          "data": {
            "text/plain": [
              "array([ 5, 10,  8])"
            ]
          },
          "metadata": {},
          "execution_count": 21
        }
      ]
    },
    {
      "cell_type": "code",
      "source": [
        "# Multiplication by a scalar\n",
        "g = a * 3\n",
        "print(g)\n",
        "\n"
      ],
      "metadata": {
        "colab": {
          "base_uri": "https://localhost:8080/"
        },
        "id": "CMEB3jsAPG_5",
        "outputId": "c90fe983-6a1a-400a-edf6-dc754d2237d4"
      },
      "execution_count": null,
      "outputs": [
        {
          "output_type": "stream",
          "name": "stdout",
          "text": [
            "[ 3 12 18]\n"
          ]
        }
      ]
    },
    {
      "cell_type": "code",
      "source": [
        "# Dot Product\n",
        "a = np.array([1,5,7,9])\n",
        "b = ([9,4,2,4])\n",
        "c = np.dot(a, b)\n",
        "c"
      ],
      "metadata": {
        "colab": {
          "base_uri": "https://localhost:8080/"
        },
        "id": "joWmwPK_PzRf",
        "outputId": "8b1a2902-4198-4208-8429-e63e1ebfc35d"
      },
      "execution_count": null,
      "outputs": [
        {
          "output_type": "execute_result",
          "data": {
            "text/plain": [
              "79"
            ]
          },
          "metadata": {},
          "execution_count": 28
        }
      ]
    },
    {
      "cell_type": "code",
      "source": [
        "# Matrices in Python\n",
        "M = np.array([[2,5,8], [5,9,2]])\n",
        "M"
      ],
      "metadata": {
        "colab": {
          "base_uri": "https://localhost:8080/"
        },
        "id": "5FaZp45-QmI-",
        "outputId": "7afaa5cd-40a4-4129-f1c5-2d0c9d06bff1"
      },
      "execution_count": null,
      "outputs": [
        {
          "output_type": "execute_result",
          "data": {
            "text/plain": [
              "array([[2, 5, 8],\n",
              "       [5, 9, 2]])"
            ]
          },
          "metadata": {},
          "execution_count": 29
        }
      ]
    },
    {
      "cell_type": "code",
      "source": [
        "# Shape and size\n",
        "M.size\n",
        "M.shape"
      ],
      "metadata": {
        "colab": {
          "base_uri": "https://localhost:8080/"
        },
        "id": "HSOTt6DcQ1Xg",
        "outputId": "8b802d54-a480-4105-99ff-1b6a98b07d86"
      },
      "execution_count": null,
      "outputs": [
        {
          "output_type": "execute_result",
          "data": {
            "text/plain": [
              "(2, 3)"
            ]
          },
          "metadata": {},
          "execution_count": 31
        }
      ]
    },
    {
      "cell_type": "code",
      "source": [
        "#element indexing\n",
        "M[1,2]"
      ],
      "metadata": {
        "colab": {
          "base_uri": "https://localhost:8080/"
        },
        "id": "6FWQrvqRRDXS",
        "outputId": "aa141a9e-c014-4ee0-e209-436db3a4fbc9"
      },
      "execution_count": null,
      "outputs": [
        {
          "output_type": "execute_result",
          "data": {
            "text/plain": [
              "2"
            ]
          },
          "metadata": {},
          "execution_count": 32
        }
      ]
    },
    {
      "cell_type": "code",
      "source": [
        "M[:,1]"
      ],
      "metadata": {
        "colab": {
          "base_uri": "https://localhost:8080/"
        },
        "id": "fmh4ABL1R40T",
        "outputId": "e96db309-53bc-4471-be45-c1dab0415a2f"
      },
      "execution_count": null,
      "outputs": [
        {
          "output_type": "execute_result",
          "data": {
            "text/plain": [
              "array([5, 9])"
            ]
          },
          "metadata": {},
          "execution_count": 33
        }
      ]
    },
    {
      "cell_type": "code",
      "source": [
        "M[1,:]"
      ],
      "metadata": {
        "colab": {
          "base_uri": "https://localhost:8080/"
        },
        "id": "ZRwxLV37R-H-",
        "outputId": "c8e4abba-4415-4b42-8624-f89210e74f20"
      },
      "execution_count": null,
      "outputs": [
        {
          "output_type": "execute_result",
          "data": {
            "text/plain": [
              "array([5, 9, 2])"
            ]
          },
          "metadata": {},
          "execution_count": 34
        }
      ]
    },
    {
      "cell_type": "code",
      "source": [
        "M[1:2, :]"
      ],
      "metadata": {
        "colab": {
          "base_uri": "https://localhost:8080/"
        },
        "id": "f1BpuZeTSFgb",
        "outputId": "2ebd8a5c-5bff-4de2-f922-130186c03c99"
      },
      "execution_count": null,
      "outputs": [
        {
          "output_type": "execute_result",
          "data": {
            "text/plain": [
              "array([[5, 9, 2]])"
            ]
          },
          "metadata": {},
          "execution_count": 35
        }
      ]
    },
    {
      "cell_type": "code",
      "source": [
        "M[:, 2:3]"
      ],
      "metadata": {
        "colab": {
          "base_uri": "https://localhost:8080/"
        },
        "id": "GQUFO22YSVBI",
        "outputId": "6ab81488-8623-4f7f-d44d-ab4cf9808dea"
      },
      "execution_count": null,
      "outputs": [
        {
          "output_type": "execute_result",
          "data": {
            "text/plain": [
              "array([[8],\n",
              "       [2]])"
            ]
          },
          "metadata": {},
          "execution_count": 36
        }
      ]
    },
    {
      "cell_type": "code",
      "source": [
        "# Sqaure, Diagonal, identity and Square Matrix\n",
        "np.diag([4, 7,9])"
      ],
      "metadata": {
        "colab": {
          "base_uri": "https://localhost:8080/"
        },
        "id": "E4D-FIdISejA",
        "outputId": "68c7dc26-3994-4442-e65a-a716f446b45f"
      },
      "execution_count": null,
      "outputs": [
        {
          "output_type": "execute_result",
          "data": {
            "text/plain": [
              "array([[4, 0, 0],\n",
              "       [0, 7, 0],\n",
              "       [0, 0, 9]])"
            ]
          },
          "metadata": {},
          "execution_count": 37
        }
      ]
    },
    {
      "cell_type": "code",
      "source": [
        "np.eye(5)"
      ],
      "metadata": {
        "colab": {
          "base_uri": "https://localhost:8080/"
        },
        "id": "DMaWWHCxTnGI",
        "outputId": "565c7085-f281-4ce7-bb76-dc45cb282527"
      },
      "execution_count": null,
      "outputs": [
        {
          "output_type": "execute_result",
          "data": {
            "text/plain": [
              "array([[1., 0., 0., 0., 0.],\n",
              "       [0., 1., 0., 0., 0.],\n",
              "       [0., 0., 1., 0., 0.],\n",
              "       [0., 0., 0., 1., 0.],\n",
              "       [0., 0., 0., 0., 1.]])"
            ]
          },
          "metadata": {},
          "execution_count": 38
        }
      ]
    },
    {
      "cell_type": "code",
      "source": [
        "# Adding Matrices\n",
        "A = np.array([[2, 5, 7,], [6, 7, 2]])\n",
        "A"
      ],
      "metadata": {
        "colab": {
          "base_uri": "https://localhost:8080/"
        },
        "id": "ZJ1DV5flTsHB",
        "outputId": "80db4183-74e8-4d60-c11d-a8bd9ca027ec"
      },
      "execution_count": null,
      "outputs": [
        {
          "output_type": "execute_result",
          "data": {
            "text/plain": [
              "array([[2, 5, 7],\n",
              "       [6, 7, 2]])"
            ]
          },
          "metadata": {},
          "execution_count": 39
        }
      ]
    },
    {
      "cell_type": "code",
      "source": [
        "B = np.array([[5, 3, 6], [6, 2, 2]])\n",
        "B"
      ],
      "metadata": {
        "colab": {
          "base_uri": "https://localhost:8080/"
        },
        "id": "JUBpLOQPUKbc",
        "outputId": "af991cff-7fa3-4d54-aa71-325e5df64a1b"
      },
      "execution_count": null,
      "outputs": [
        {
          "output_type": "execute_result",
          "data": {
            "text/plain": [
              "array([[5, 3, 6],\n",
              "       [6, 2, 2]])"
            ]
          },
          "metadata": {},
          "execution_count": 40
        }
      ]
    },
    {
      "cell_type": "code",
      "source": [
        "C = A + B\n",
        "C"
      ],
      "metadata": {
        "colab": {
          "base_uri": "https://localhost:8080/"
        },
        "id": "JgaXhWhuUUEO",
        "outputId": "07dcd033-49a4-4f29-d171-909883404d03"
      },
      "execution_count": null,
      "outputs": [
        {
          "output_type": "execute_result",
          "data": {
            "text/plain": [
              "array([[ 7,  8, 13],\n",
              "       [12,  9,  4]])"
            ]
          },
          "metadata": {},
          "execution_count": 47
        }
      ]
    },
    {
      "cell_type": "code",
      "source": [
        "# Sclar multiuplication with array\n",
        "C * 2"
      ],
      "metadata": {
        "colab": {
          "base_uri": "https://localhost:8080/"
        },
        "id": "32RopxyjUXxh",
        "outputId": "1c24ae9f-b6f6-4fbe-fb1c-4df76cf02097"
      },
      "execution_count": null,
      "outputs": [
        {
          "output_type": "execute_result",
          "data": {
            "text/plain": [
              "array([[14, 16, 26],\n",
              "       [24, 18,  8]])"
            ]
          },
          "metadata": {},
          "execution_count": 48
        }
      ]
    },
    {
      "cell_type": "code",
      "source": [
        "import numpy as np\n",
        "\n",
        "C = np.array([[14, 16, 26],\n",
        "              [24, 18, 8],\n",
        "              [1, 2, 3]])  # Adjusted to 3x3 matrix\n",
        "\n",
        "D = np.array([[2, 4, 6, 1],\n",
        "              [8, 5, 3, 7],\n",
        "              [0, 1, 2, 3]])  # Adjusted to 3x4 matrix\n",
        "\n",
        "E = np.matmul(C, D)\n",
        "print(E)\n"
      ],
      "metadata": {
        "colab": {
          "base_uri": "https://localhost:8080/"
        },
        "id": "gmNxxu4QU19r",
        "outputId": "ccc266ab-90dc-49e0-fe47-60f10ea5f0d9"
      },
      "execution_count": null,
      "outputs": [
        {
          "output_type": "stream",
          "name": "stdout",
          "text": [
            "[[156 162 184 204]\n",
            " [192 194 214 174]\n",
            " [ 18  17  18  24]]\n"
          ]
        }
      ]
    },
    {
      "cell_type": "code",
      "source": [
        "# Matrix Transpose\n",
        "A\n",
        "A.T"
      ],
      "metadata": {
        "colab": {
          "base_uri": "https://localhost:8080/"
        },
        "id": "CkMiUxHoXuh0",
        "outputId": "bb2185ec-032c-4562-cece-602517aed68f"
      },
      "execution_count": null,
      "outputs": [
        {
          "output_type": "execute_result",
          "data": {
            "text/plain": [
              "array([[2, 6],\n",
              "       [5, 7],\n",
              "       [7, 2]])"
            ]
          },
          "metadata": {},
          "execution_count": 61
        }
      ]
    },
    {
      "cell_type": "code",
      "source": [
        "A.T.T"
      ],
      "metadata": {
        "colab": {
          "base_uri": "https://localhost:8080/"
        },
        "id": "R62sCyuKYEM6",
        "outputId": "bf03c547-fbcc-4135-94cf-57f95ffb3cd0"
      },
      "execution_count": null,
      "outputs": [
        {
          "output_type": "execute_result",
          "data": {
            "text/plain": [
              "array([[2, 5, 7],\n",
              "       [6, 7, 2]])"
            ]
          },
          "metadata": {},
          "execution_count": 62
        }
      ]
    },
    {
      "cell_type": "code",
      "source": [
        "K = np.array([[1, 3, 5], [2, 5, 7]])\n",
        "L = np.array([[4, 5, 6], [7, 8, 9]])\n",
        "(A+B).T"
      ],
      "metadata": {
        "colab": {
          "base_uri": "https://localhost:8080/"
        },
        "id": "WpNunYO5YHm6",
        "outputId": "82ab4f14-fe51-461b-9a45-bc4ba3d5dca5"
      },
      "execution_count": null,
      "outputs": [
        {
          "output_type": "execute_result",
          "data": {
            "text/plain": [
              "array([[ 7, 12],\n",
              "       [ 8,  9],\n",
              "       [13,  4]])"
            ]
          },
          "metadata": {},
          "execution_count": 65
        }
      ]
    },
    {
      "cell_type": "code",
      "source": [
        "#Converting 1D arrays to 2D array\n",
        "U = np.array([2, 5])\n",
        "u_row = np.array([U])\n",
        "u_row\n"
      ],
      "metadata": {
        "colab": {
          "base_uri": "https://localhost:8080/"
        },
        "id": "kytkrlsnYf_b",
        "outputId": "f87017ef-c7d7-4fea-9866-b222efac910c"
      },
      "execution_count": null,
      "outputs": [
        {
          "output_type": "execute_result",
          "data": {
            "text/plain": [
              "array([[2, 5]])"
            ]
          },
          "metadata": {},
          "execution_count": 68
        }
      ]
    },
    {
      "cell_type": "code",
      "source": [
        "U[np.newaxis, :]\n"
      ],
      "metadata": {
        "colab": {
          "base_uri": "https://localhost:8080/"
        },
        "id": "KLnx5QuMbH5s",
        "outputId": "21df1e31-6539-4763-9359-6de3e9db98f9"
      },
      "execution_count": null,
      "outputs": [
        {
          "output_type": "execute_result",
          "data": {
            "text/plain": [
              "array([[2],\n",
              "       [5]])"
            ]
          },
          "metadata": {},
          "execution_count": 72
        },
        {
          "output_type": "execute_result",
          "data": {
            "text/plain": [
              "array([[2],\n",
              "       [5]])"
            ]
          },
          "metadata": {},
          "execution_count": 73
        }
      ]
    },
    {
      "cell_type": "code",
      "source": [
        "U[None]"
      ],
      "metadata": {
        "colab": {
          "base_uri": "https://localhost:8080/"
        },
        "id": "TqbVAIzkbjvg",
        "outputId": "c679b0b6-29c2-4148-b846-3c1889dccf1e"
      },
      "execution_count": null,
      "outputs": [
        {
          "output_type": "execute_result",
          "data": {
            "text/plain": [
              "array([[2],\n",
              "       [5]])"
            ]
          },
          "metadata": {},
          "execution_count": 71
        }
      ]
    },
    {
      "cell_type": "code",
      "source": [
        "U[np.newaxis, :].T"
      ],
      "metadata": {
        "id": "i33e2u-dcIdW"
      },
      "execution_count": null,
      "outputs": []
    },
    {
      "cell_type": "code",
      "source": [
        "# Inverse\n",
        "I = np.array([[4, 5], [2, 5]])\n",
        "T = LA.inv(LA.inv(I))\n",
        "T"
      ],
      "metadata": {
        "colab": {
          "base_uri": "https://localhost:8080/"
        },
        "id": "-I7wz6uSczGG",
        "outputId": "b19a4ed0-6983-49c0-e672-ef67053a5654"
      },
      "execution_count": null,
      "outputs": [
        {
          "output_type": "execute_result",
          "data": {
            "text/plain": [
              "array([[4., 5.],\n",
              "       [2., 5.]])"
            ]
          },
          "metadata": {},
          "execution_count": 80
        }
      ]
    },
    {
      "cell_type": "code",
      "source": [
        "# Determinent\n",
        "H = np.array([[3, 5, 7], [6, 7, 8,], [9,1,5]])\n",
        "LA.det(H)\n"
      ],
      "metadata": {
        "colab": {
          "base_uri": "https://localhost:8080/"
        },
        "id": "ePpOtfjxeEi7",
        "outputId": "c062c6a0-1570-4720-b855-6d5bf254def0"
      },
      "execution_count": null,
      "outputs": [
        {
          "output_type": "execute_result",
          "data": {
            "text/plain": [
              "-107.99999999999993"
            ]
          },
          "metadata": {},
          "execution_count": 83
        }
      ]
    },
    {
      "cell_type": "code",
      "source": [
        "# Composing Linear Tranformation\n"
      ],
      "metadata": {
        "id": "iumV4mVfgNie"
      },
      "execution_count": null,
      "outputs": []
    },
    {
      "cell_type": "code",
      "source": [
        "G, U, J = LA.svd(H)\n",
        "G"
      ],
      "metadata": {
        "colab": {
          "base_uri": "https://localhost:8080/"
        },
        "id": "A7LP_xzigUWv",
        "outputId": "d776f3c0-8da0-4a2a-b979-ec05b9e142fa"
      },
      "execution_count": null,
      "outputs": [
        {
          "output_type": "execute_result",
          "data": {
            "text/plain": [
              "array([[-0.49889159, -0.44465605, -0.74390065],\n",
              "       [-0.69085039, -0.31423108,  0.65114098],\n",
              "       [-0.52329048,  0.83877281, -0.15042357]])"
            ]
          },
          "metadata": {},
          "execution_count": 87
        }
      ]
    },
    {
      "cell_type": "code",
      "source": [
        "#Eigen Values and Eigen Vectors\n",
        "eigenvec, eigenval = LA.eig(H)\n",
        "eigenval"
      ],
      "metadata": {
        "colab": {
          "base_uri": "https://localhost:8080/"
        },
        "id": "PRqHgIMzg2me",
        "outputId": "3ec302bd-815a-4387-f4b4-27001cb12857"
      },
      "execution_count": null,
      "outputs": [
        {
          "output_type": "execute_result",
          "data": {
            "text/plain": [
              "array([[-0.51181868, -0.65896916, -0.11060251],\n",
              "       [-0.72153497, -0.18172326, -0.80080746],\n",
              "       [-0.46629274,  0.72988787,  0.58862084]])"
            ]
          },
          "metadata": {},
          "execution_count": 88
        }
      ]
    },
    {
      "cell_type": "code",
      "source": [
        "eigenvec"
      ],
      "metadata": {
        "colab": {
          "base_uri": "https://localhost:8080/"
        },
        "id": "wPCWHgYjhac_",
        "outputId": "a37830a3-4630-4b93-de70-f6a50808da40"
      },
      "execution_count": null,
      "outputs": [
        {
          "output_type": "execute_result",
          "data": {
            "text/plain": [
              "array([16.42609064, -3.37449972,  1.94840908])"
            ]
          },
          "metadata": {},
          "execution_count": 89
        }
      ]
    },
    {
      "cell_type": "code",
      "source": [
        "#Trace\n",
        "C = H.trace()\n",
        "C"
      ],
      "metadata": {
        "colab": {
          "base_uri": "https://localhost:8080/"
        },
        "id": "ZwU9wxUwheUI",
        "outputId": "e97dcf83-17f8-4889-f747-8f52284995cb"
      },
      "execution_count": null,
      "outputs": [
        {
          "output_type": "execute_result",
          "data": {
            "text/plain": [
              "15"
            ]
          },
          "metadata": {},
          "execution_count": 90
        }
      ]
    }
  ]
}