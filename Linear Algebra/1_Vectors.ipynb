{
  "nbformat": 4,
  "nbformat_minor": 0,
  "metadata": {
    "colab": {
      "provenance": []
    },
    "kernelspec": {
      "name": "python3",
      "display_name": "Python 3"
    },
    "language_info": {
      "name": "python"
    }
  },
  "cells": [
    {
      "cell_type": "code",
      "execution_count": null,
      "metadata": {
        "colab": {
          "base_uri": "https://localhost:8080/"
        },
        "id": "0P-cPJ_qL9Sp",
        "outputId": "0da21052-7ac6-4cc1-a87b-d05882fa2ddf"
      },
      "outputs": [
        {
          "output_type": "stream",
          "name": "stdout",
          "text": [
            "Euclidean ditsance from origin is:  114.86513831445988\n"
          ]
        }
      ],
      "source": [
        "# Distance from Origin using euclidean norm.\n",
        "import numpy as np\n",
        "A = np.array([1,2,3,4,5,6,7,8,9,10, 11, 112, 12])\n",
        "distance = np.linalg.norm(A)\n",
        "print(\"Euclidean ditsance from origin is: \", distance)"
      ]
    },
    {
      "cell_type": "code",
      "source": [
        "# To find euclidean distance in n-D\n",
        "import numpy as np\n",
        "A = np.array([1,2,3,4,5])\n",
        "B = np.array([6,7,8,9,10])\n",
        "difference = A - B\n",
        "difference"
      ],
      "metadata": {
        "colab": {
          "base_uri": "https://localhost:8080/"
        },
        "id": "QsNt4CSSNFoV",
        "outputId": "e6514ebd-8b76-49ea-ce1f-7f8f8dbd0873"
      },
      "execution_count": null,
      "outputs": [
        {
          "output_type": "execute_result",
          "data": {
            "text/plain": [
              "array([-5, -5, -5, -5, -5])"
            ]
          },
          "metadata": {},
          "execution_count": 4
        }
      ]
    },
    {
      "cell_type": "code",
      "source": [
        "# Calculate the Euclidean distance between A and B (L2 norm og the diference)\n",
        "distance = np.linalg.norm(difference)\n",
        "print(\"The difference between A and B\", distance)"
      ],
      "metadata": {
        "colab": {
          "base_uri": "https://localhost:8080/"
        },
        "id": "P_3x7Xr9NxAp",
        "outputId": "9b97c460-7168-4e3b-d658-d00eefbff9cd"
      },
      "execution_count": null,
      "outputs": [
        {
          "output_type": "stream",
          "name": "stdout",
          "text": [
            "The difference between A and B 11.180339887498949\n"
          ]
        }
      ]
    },
    {
      "cell_type": "code",
      "source": [
        "import numpy as np\n",
        "import matplotlib.pyplot as plt\n",
        "from mpl_toolkits.mplot3d import Axes3D\n",
        "from scipy.spatial.distance import euclidean\n",
        "# Step1: 5 random 3d vectors\n",
        "vectors = np.random.rand(5, 3)\n",
        "print(vectors)\n",
        "# Step2: Assign random class (0 or 1 to each vector)\n",
        "classes = np.random.randint(0, 2, 5)\n",
        "# Step3: Plot the Vectors on 3D matplotlin graph.\n",
        "fig = plt.figure()\n",
        "ax = fig.add_subplot(111, projection=\"3d\")\n",
        "for vec, cls in zip(vectors, classes):\n",
        "    ax.quiver(0, 0, 0, vec[0], vec[1], vec[2], color=(\"r\" if cls == 1 else \"b\"))\n",
        "# 4. Get user input for a query point (3D vector)\n",
        "query_vector = np.array(list(map(float, input(\"Enter the query point (3D vector) separated by space: \").split())))\n",
        "# 5. Calculate the distance from the query vector to the 5 vectors and find the nearest neighbor\n",
        "distances = [euclidean(query_vector, vec) for vec in vectors]\n",
        "nearest_neighbor_index = np.argmin(distances)\n",
        "# 6. Output the class of the nearest neighbor\n",
        "print(\"The class of the nearest neighbor is:\", classes[nearest_neighbor_index])\n",
        "# 7. Plot the query vector with a different color\n",
        "ax.quiver(0, 0, 0, query_vector[0], query_vector[1], query_vector[2], color=\"g\")\n",
        "ax.set_xlabel(\"X-axis\")\n",
        "ax.set_ylabel(\"Y-axis\")\n",
        "ax.set_zlabel(\"Z-axis\")\n",
        "\n",
        "plt.show()"
      ],
      "metadata": {
        "id": "_uDyTI88ORJg"
      },
      "execution_count": null,
      "outputs": []
    },
    {
      "cell_type": "code",
      "source": [
        "import numpy as np\n",
        "import matplotlib.pyplot as plt\n",
        "\n",
        "# Generate random 2D data with 100 points\n",
        "data = np.random.rand(100, 2)\n",
        "\n",
        "\n",
        "data"
      ],
      "metadata": {
        "colab": {
          "base_uri": "https://localhost:8080/"
        },
        "id": "WHlcf1k0Qln_",
        "outputId": "c05b69b0-a60a-4fb7-c839-78eb898ef2da"
      },
      "execution_count": null,
      "outputs": [
        {
          "output_type": "execute_result",
          "data": {
            "text/plain": [
              "array([[4.31750965e-01, 5.65685783e-01],\n",
              "       [7.95865647e-01, 3.15057396e-01],\n",
              "       [3.12319330e-01, 3.65191723e-02],\n",
              "       [8.42817947e-01, 1.68045730e-01],\n",
              "       [3.08993183e-01, 7.61311034e-01],\n",
              "       [4.20496688e-01, 4.51190974e-01],\n",
              "       [2.88227691e-01, 5.71527572e-01],\n",
              "       [8.16830689e-01, 9.05835395e-01],\n",
              "       [8.30022389e-01, 6.32076621e-01],\n",
              "       [6.76916304e-01, 2.09683987e-01],\n",
              "       [1.96999986e-01, 2.02787369e-01],\n",
              "       [3.75693139e-01, 9.82531891e-01],\n",
              "       [6.70423838e-01, 9.98209200e-01],\n",
              "       [8.18374341e-01, 9.73168313e-01],\n",
              "       [7.71444551e-01, 2.85095694e-01],\n",
              "       [3.52260705e-01, 8.49288475e-01],\n",
              "       [1.87972175e-01, 5.83896665e-01],\n",
              "       [7.16991542e-01, 1.86229713e-01],\n",
              "       [4.98761541e-01, 9.61542593e-01],\n",
              "       [8.93292600e-01, 1.25134747e-03],\n",
              "       [6.51138831e-01, 2.72952740e-01],\n",
              "       [8.92810838e-01, 3.84488471e-01],\n",
              "       [6.61023978e-01, 5.78525890e-01],\n",
              "       [6.82543875e-01, 9.25613619e-02],\n",
              "       [8.83435817e-01, 2.88889105e-01],\n",
              "       [9.96337792e-01, 8.82088798e-01],\n",
              "       [9.16299845e-01, 1.83269158e-01],\n",
              "       [3.47394423e-01, 4.62841702e-01],\n",
              "       [1.89698915e-01, 9.08785618e-01],\n",
              "       [2.04858285e-04, 6.73011084e-01],\n",
              "       [1.36348631e-01, 3.29298521e-01],\n",
              "       [4.04284659e-01, 7.93327657e-01],\n",
              "       [4.07473400e-01, 6.35483641e-01],\n",
              "       [6.03227349e-01, 5.36592568e-01],\n",
              "       [9.13244233e-01, 8.07111846e-01],\n",
              "       [2.45398713e-01, 4.07962955e-01],\n",
              "       [3.27879865e-01, 2.48563766e-01],\n",
              "       [6.44390236e-01, 6.90393969e-01],\n",
              "       [3.70956769e-01, 3.18351735e-01],\n",
              "       [2.82306162e-01, 4.15370325e-01],\n",
              "       [7.57292836e-01, 2.25931635e-01],\n",
              "       [2.14621654e-01, 7.44580271e-01],\n",
              "       [4.07856183e-01, 5.81961541e-01],\n",
              "       [5.01875399e-01, 8.85912521e-01],\n",
              "       [2.53589941e-01, 8.43924149e-01],\n",
              "       [5.16299093e-01, 1.67444640e-01],\n",
              "       [5.32055844e-02, 4.48094188e-01],\n",
              "       [5.42644061e-01, 9.76426203e-01],\n",
              "       [9.08021644e-01, 6.74823215e-02],\n",
              "       [9.22138776e-01, 1.32952782e-01],\n",
              "       [7.63238201e-01, 4.24489455e-01],\n",
              "       [8.60942523e-01, 6.67226090e-02],\n",
              "       [4.19024179e-01, 6.56349253e-01],\n",
              "       [8.86934419e-01, 2.20725474e-02],\n",
              "       [2.62050428e-01, 5.40064862e-01],\n",
              "       [8.06740393e-02, 1.10061157e-02],\n",
              "       [4.34405117e-01, 4.88600614e-01],\n",
              "       [6.60879835e-01, 6.20150268e-01],\n",
              "       [1.54370084e-01, 5.37298390e-01],\n",
              "       [3.97120206e-01, 4.32767056e-01],\n",
              "       [4.71728357e-01, 2.76554071e-04],\n",
              "       [7.48740706e-01, 9.56409011e-01],\n",
              "       [3.55956518e-01, 1.39029526e-03],\n",
              "       [4.78776038e-01, 6.01582093e-01],\n",
              "       [6.24437472e-01, 6.55838536e-01],\n",
              "       [3.65141964e-02, 5.90414986e-01],\n",
              "       [3.17479845e-01, 5.76054220e-01],\n",
              "       [8.61281548e-01, 7.55212290e-01],\n",
              "       [7.11789451e-01, 4.64640760e-02],\n",
              "       [2.85703036e-01, 5.50904078e-01],\n",
              "       [2.71218193e-01, 4.39872354e-01],\n",
              "       [4.09505755e-01, 7.66404358e-01],\n",
              "       [9.54165779e-01, 9.20585680e-01],\n",
              "       [5.33763125e-01, 9.00257273e-01],\n",
              "       [7.92117729e-01, 4.00807734e-01],\n",
              "       [7.67887684e-01, 5.86721777e-01],\n",
              "       [3.06199316e-02, 7.69355975e-01],\n",
              "       [6.52924866e-01, 6.25830767e-01],\n",
              "       [4.37136791e-01, 8.22630345e-01],\n",
              "       [2.51211215e-01, 1.58503739e-01],\n",
              "       [6.18534518e-01, 6.09903251e-01],\n",
              "       [3.80017922e-01, 7.71686647e-01],\n",
              "       [6.09589722e-02, 4.35707967e-02],\n",
              "       [7.85901769e-02, 4.57576412e-01],\n",
              "       [6.75792227e-04, 6.99683644e-01],\n",
              "       [1.72693432e-01, 8.06960180e-01],\n",
              "       [2.68068608e-01, 5.54550527e-01],\n",
              "       [6.14628513e-01, 1.42685147e-02],\n",
              "       [8.03487638e-02, 1.25759191e-01],\n",
              "       [1.31331389e-01, 9.03596601e-01],\n",
              "       [5.89983756e-01, 4.21719202e-01],\n",
              "       [7.36858313e-01, 7.82622537e-01],\n",
              "       [3.95310910e-02, 5.86797257e-02],\n",
              "       [6.17797199e-01, 6.54892549e-01],\n",
              "       [2.11505531e-01, 9.47118821e-01],\n",
              "       [4.73711328e-01, 1.92475976e-01],\n",
              "       [3.64836965e-02, 6.37366260e-01],\n",
              "       [3.31624505e-01, 7.96988466e-01],\n",
              "       [1.43337496e-01, 8.90669164e-01],\n",
              "       [6.59352379e-01, 1.66448854e-01]])"
            ]
          },
          "metadata": {},
          "execution_count": 12
        }
      ]
    },
    {
      "cell_type": "code",
      "source": [
        "# Plot the original data\n",
        "plt.figure(figsize=(12, 6))\n",
        "\n",
        "plt.subplot(1, 2, 1)\n",
        "plt.scatter(data[:, 0], data[:, 1], label=\"Original Data\")\n",
        "plt.xlabel(\"X-axis\")\n",
        "plt.ylabel(\"Y-axis\")\n",
        "plt.title(\"Before Mean Centering\")\n",
        "plt.axhline(0, color='black', linewidth=0.5)\n",
        "plt.axvline(0, color='black', linewidth=0.5)\n",
        "plt.legend()"
      ],
      "metadata": {
        "id": "HLaqdFopO5wE"
      },
      "execution_count": null,
      "outputs": []
    },
    {
      "cell_type": "code",
      "source": [
        "# Calculate the mean of the data along each dimension\n",
        "data_mean = np.mean(data, axis=0)\n",
        "print(data_mean)\n",
        "# Perform mean centering\n",
        "centered_data = data - data_mean"
      ],
      "metadata": {
        "id": "k9nTAyNlQ7gA"
      },
      "execution_count": null,
      "outputs": []
    },
    {
      "cell_type": "code",
      "source": [
        "# Plot the mean-centered data\n",
        "plt.subplot(1, 2, 2)\n",
        "plt.scatter(centered_data[:, 0], centered_data[:, 1], label=\"Mean-Centered Data\", color=\"orange\")\n",
        "plt.xlabel(\"X-axis\")\n",
        "plt.ylabel(\"Y-axis\")\n",
        "plt.title(\"After Mean Centering\")\n",
        "plt.axhline(0, color='black', linewidth=0.5)\n",
        "plt.axvline(0, color='black', linewidth=0.5)\n",
        "plt.legend()\n",
        "\n",
        "plt.show()"
      ],
      "metadata": {
        "id": "DXJY4BQMRDrJ"
      },
      "execution_count": null,
      "outputs": []
    },
    {
      "cell_type": "code",
      "source": [
        "import numpy as np\n",
        "import matplotlib.pyplot as plt\n",
        "# Generate random 2D data with 100 points\n",
        "data = np.random.rand(100, 2)\n",
        "# Calculate the mean of the data along each dimension\n",
        "data_mean = np.mean(data, axis=0)\n",
        "# Perform mean centering\n",
        "centered_data = data - data_mean\n",
        "# Plot the original data\n",
        "plt.figure(figsize=(12, 6))\n",
        "plt.subplot(1, 2, 1)\n",
        "plt.scatter(data[:, 0], data[:, 1], label=\"Original Data\")\n",
        "plt.xlabel(\"X-axis\")\n",
        "plt.ylabel(\"Y-axis\")\n",
        "plt.title(\"Before Mean Centering\")\n",
        "plt.axhline(0, color='black', linewidth=0.5)\n",
        "plt.axvline(0, color='black', linewidth=0.5)\n",
        "plt.legend()\n",
        "# Plot the mean-centered data\n",
        "plt.subplot(1, 2, 2)\n",
        "plt.scatter(centered_data[:, 0], centered_data[:, 1], label=\"Mean-Centered Data\", color=\"orange\")\n",
        "plt.xlabel(\"X-axis\")\n",
        "plt.ylabel(\"Y-axis\")\n",
        "plt.title(\"After Mean Centering\")\n",
        "plt.axhline(0, color='black', linewidth=0.5)\n",
        "plt.axvline(0, color='black', linewidth=0.5)\n",
        "plt.legend()\n",
        "\n",
        "plt.show()\n"
      ],
      "metadata": {
        "colab": {
          "base_uri": "https://localhost:8080/",
          "height": 564
        },
        "id": "n5L_TvWdRHn6",
        "outputId": "fabeeded-bdc1-417f-f438-94777e0ccc92"
      },
      "execution_count": null,
      "outputs": [
        {
          "output_type": "display_data",
          "data": {
            "text/plain": [
              "<Figure size 1200x600 with 2 Axes>"
            ],
            "image/png": "[encoded data removed]"
          },
          "metadata": {}
        }
      ]
    },
    {
      "cell_type": "code",
      "source": [
        "import numpy as np\n",
        "import matplotlib.pyplot as plt\n",
        "# Generate 100 random 2D vectors\n",
        "data = np.random.rand(100, 2) * np.array([500, 0.01])\n",
        "# Compute the min and max values for each feature\n",
        "min_values = np.min(data, axis=0)\n",
        "max_values = np.max(data, axis=0)\n",
        "# Apply min-max normalization (scaling)\n",
        "normalized_data = (data - min_values) / (max_values - min_values)\n",
        "# Plot the original data\n",
        "plt.fig\n",
        "plt.subplot(1, 2, 1)\n",
        "plt.scatter(data[:, 0], data[:, 1], label=\"Original Data\")\n",
        "plt.xlabel(\"Feature 1\")\n",
        "plt.ylabel(\"Feature 2\")\n",
        "plt.title(\"Before Min-Max Normalization\")\n",
        "plt.legend()\n",
        "# Plot the normalized data\n",
        "plt.subplot(1, 2, 2)\n",
        "plt.scatter(normalized_data[:, 0], normalized_data[:, 1], label=\"Normalized Data\", color=\"orange\")\n",
        "plt.xlabel(\"Feature 1\")\n",
        "plt.ylabel(\"Feature 2\")\n",
        "plt.title(\"After Min-Max Normalization\")\n",
        "plt.legend()\n",
        "plt.show()"
      ],
      "metadata": {
        "id": "TtDdem2CRVen"
      },
      "execution_count": null,
      "outputs": []
    },
    {
      "cell_type": "code",
      "source": [
        "# DOT PRODUCT\n",
        "import numpy as np\n",
        "# Define three vectors\n",
        "A = np.array([1, 2, 3])\n",
        "B = np.array([4, 5, 6])\n",
        "print(np.dot(A, B))\n",
        "print(A@B)"
      ],
      "metadata": {
        "id": "RAqluADzRjmA"
      },
      "execution_count": null,
      "outputs": []
    },
    {
      "cell_type": "code",
      "source": [
        "import numpy as np\n",
        "# Define three vectors\n",
        "A = np.array([1, 2, 3])\n",
        "B = np.array([4, 5, 6])\n",
        "C = np.array([7, 8, 9])\n",
        "# Calculate dot product using numpy.dot() function\n",
        "dot_product_AB = np.dot(A, B)\n",
        "dot_product_BA = np.dot(B, A)\n",
        "print(dot_product_AB)\n",
        "print(dot_product_BA)\n",
        "# Check commutative property: A • B = B • A\n",
        "if dot_product_AB == dot_product_BA:\n",
        "    print(\"commutative.\")\n",
        "else:\n",
        "    print(\"not commutative.\")"
      ],
      "metadata": {
        "id": "KmwqPlo7RzIi"
      },
      "execution_count": null,
      "outputs": []
    },
    {
      "cell_type": "code",
      "source": [
        "# Distributive property: A • (B + C) = A • B + A • C\n",
        "dot_product_A_BC = np.dot(A, B + C)\n",
        "dot_product_AB_plus_AC = np.dot(A, B) + np.dot(A, C)\n",
        "print(dot_product_A_BC)\n",
        "print(dot_product_AB_plus_AC)\n",
        "if dot_product_A_BC == dot_product_AB_plus_AC:\n",
        "    print(\"The dot product is distributive.\")\n",
        "else:\n",
        "    print(\"The dot product is not distributive.\")"
      ],
      "metadata": {
        "id": "QSnCEiMMR7Gw"
      },
      "execution_count": null,
      "outputs": []
    },
    {
      "cell_type": "code",
      "source": [
        "# Cosin similarity\n",
        "import numpy as np\n",
        "# Define two vectors\n",
        "A = np.array([1, 2, 3])\n",
        "B = np.array([-4, -5, -6])\n",
        "C = np.array([5,5,5])\n",
        "# Calculate the cosine similarity\n",
        "cosine_similarity = np.dot(A, B) / (np.linalg.norm(A) * np.linalg.norm(B))\n",
        "print(\"Cosine similarity between A and B:\", cosine_similarity)\n",
        "# Calculate the cosine similarity\n",
        "cosine_similarity = np.dot(A, C) / (np.linalg.norm(A) * np.linalg.norm(C))\n",
        "print(\"Cosine similarity between A and C:\", cosine_similarity)"
      ],
      "metadata": {
        "colab": {
          "base_uri": "https://localhost:8080/"
        },
        "id": "I1fz7-6fST2E",
        "outputId": "8a907ca7-2965-405e-cbac-698d785a97ab"
      },
      "execution_count": null,
      "outputs": [
        {
          "output_type": "stream",
          "name": "stdout",
          "text": [
            "Cosine similarity between A and B: -0.9746318461970762\n",
            "Cosine similarity between A and C: 0.9258200997725513\n"
          ]
        }
      ]
    },
    {
      "cell_type": "code",
      "source": [],
      "metadata": {
        "id": "VZvenOW8SU7i"
      },
      "execution_count": null,
      "outputs": []
    }
  ]
}